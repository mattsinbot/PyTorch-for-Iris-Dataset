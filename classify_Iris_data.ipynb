{
 "cells": [
  {
   "cell_type": "code",
   "execution_count": 16,
   "metadata": {},
   "outputs": [
    {
     "name": "stdout",
     "output_type": "stream",
     "text": [
      "PyTorch version: 1.0.0\n",
      "Numpy version: 1.15.4\n"
     ]
    }
   ],
   "source": [
    "import torch\n",
    "import numpy as np\n",
    "import matplotlib.pyplot as plt\n",
    "\n",
    "# Check versions\n",
    "print(\"PyTorch version: {}\".format(torch.__version__))\n",
    "print(\"Numpy version: {}\".format(np.__version__))"
   ]
  },
  {
   "cell_type": "code",
   "execution_count": 17,
   "metadata": {},
   "outputs": [
    {
     "name": "stdout",
     "output_type": "stream",
     "text": [
      "Mean of features: [5.84333333 3.054      3.75866667 1.19866667]\n",
      "Std of features: [0.82530129 0.43214658 1.75852918 0.76061262]\n"
     ]
    }
   ],
   "source": [
    "# Load Iris Dataset\n",
    "FILE_PATH = \"/home/nobug-ros/dev_ml/PyTorch-for-Iris-Dataset/\"\n",
    "MAIN_FILE_NAME = \"iris_dataset.txt\"\n",
    "TRAIN_FILE_NAME = \"iris_train_dataset.txt\"\n",
    "TEST_FILE_NAME = \"iris_test_dataset.txt\"\n",
    "\n",
    "data = np.loadtxt(FILE_PATH+MAIN_FILE_NAME, delimiter=\",\")\n",
    "mean_data = np.mean(data[:,:4], axis=0)\n",
    "std_data = np.std(data[:,:4], axis=0)\n",
    "\n",
    "train_data = np.loadtxt(FILE_PATH+TRAIN_FILE_NAME, delimiter=\",\")\n",
    "test_data = np.loadtxt(FILE_PATH+TEST_FILE_NAME, delimiter=\",\")\n",
    "\n",
    "print(\"Mean of features: {}\".format(mean_data))\n",
    "print(\"Std of features: {}\".format(std_data))"
   ]
  },
  {
   "cell_type": "code",
   "execution_count": 13,
   "metadata": {},
   "outputs": [],
   "source": [
    "# Standardize (Preprocess) train and test data\n",
    "for j in range(4):\n",
    "    for i in range(train_data.shape[0]):\n",
    "        train_data[i, j] = (train_data[i, j] - mean_data[j])/std_data[j]\n",
    "    for i in range(test_data.shape[0]):\n",
    "        test_data[i, j] = (test_data[i, j] - mean_data[j])/std_data[j] "
   ]
  },
  {
   "cell_type": "code",
   "execution_count": 18,
   "metadata": {},
   "outputs": [],
   "source": [
    "# Convert scaled test and train data into PyTorch tensor\n",
    "train_data = torch.Tensor(train_data)\n",
    "test_data = torch.Tensor(test_data)"
   ]
  },
  {
   "cell_type": "markdown",
   "metadata": {},
   "source": [
    "## Start building the Neural Network using PyTorch"
   ]
  },
  {
   "cell_type": "code",
   "execution_count": 8,
   "metadata": {},
   "outputs": [],
   "source": [
    "# Select device to compute cpu/gpu\n",
    "device = torch.device('cpu')\n",
    "# device = torch.device('gpu')"
   ]
  },
  {
   "cell_type": "code",
   "execution_count": 9,
   "metadata": {},
   "outputs": [],
   "source": [
    "batch_sz, D_in, H, D_out = 4, 4, 8, 3\n",
    "# Use the nn package to define our model and loss function.\n",
    "model = torch.nn.Sequential(\n",
    "          torch.nn.Linear(D_in, H),\n",
    "          torch.nn.ReLU(),\n",
    "#           torch.nn.Linear(H, H),\n",
    "#           torch.nn.ReLU(),\n",
    "#           torch.nn.Linear(H, H),\n",
    "#           torch.nn.ReLU(),\n",
    "          torch.nn.Linear(H, D_out),\n",
    "          torch.nn.Softmax(dim=0),\n",
    "        )\n",
    "# loss_fn = torch.nn.BCELoss()\n",
    "# loss_fn = torch.nn.L1Loss(reduction='mean')\n",
    "loss_fn = torch.nn.MSELoss(reduction='mean')\n",
    "# loss_fn = torch.nn.PairwiseDistance(p=2)\n",
    "# loss_fn = torch.nn.CrossEntropyLoss()\n",
    "\n",
    "# Use the optim package to define an Optimizer that will update the weights of\n",
    "# the model for us. Here we will use Adam; the optim package contains many other\n",
    "# optimization algoriths. The first argument to the Adam constructor tells the\n",
    "# optimizer which Tensors it should update.\n",
    "learning_rate = 1e-4\n",
    "optimizer = torch.optim.Adam(model.parameters(), lr=learning_rate)"
   ]
  },
  {
   "cell_type": "code",
   "execution_count": 10,
   "metadata": {},
   "outputs": [
    {
     "data": {
      "image/png": "[encoded data removed]",
      "text/plain": [
       "<Figure size 432x288 with 1 Axes>"
      ]
     },
     "metadata": {
      "needs_background": "light"
     },
     "output_type": "display_data"
    }
   ],
   "source": [
    "# m = torch.nn.Sigmoid()\n",
    "idx = np.arange(train_data.size()[0])\n",
    "avg_loss_list = list()\n",
    "epoch_list = list()\n",
    "for epoch in range(200):\n",
    "    total_loss = 0\n",
    "    np.random.shuffle(idx)\n",
    "    for id in idx:\n",
    "#     for id in range(30):\n",
    "        # Forward pass: compute predicted y by passing x to the model.\n",
    "        y_pred = model(train_data[id,0:4])\n",
    "        y = train_data[id,4:]\n",
    "#         y_pred = model(train_data[batch_sz*id:batch_sz*(id+1), 0:4])\n",
    "#         y = train_data[batch_sz*id:batch_sz*(id+1), 4:]\n",
    "\n",
    "#         print (\"Actual label: {}\".format(y))\n",
    "#         print(\"Predicted label: {}\".format(y_pred))\n",
    "\n",
    "        # Compute and print loss.\n",
    "#         loss = loss_fn(m(y_pred), y)\n",
    "        loss = loss_fn(y_pred, y)\n",
    "#         print(t, loss.item())\n",
    "        total_loss += loss\n",
    "\n",
    "        # Before the backward pass, use the optimizer object to zero all of the\n",
    "        # gradients for the Tensors it will update (which are the learnable weights\n",
    "        # of the model)\n",
    "        optimizer.zero_grad()\n",
    "\n",
    "        # Backward pass: compute gradient of the loss with respect to model parameters\n",
    "        loss.backward()\n",
    "\n",
    "        # Calling the step function on an Optimizer makes an update to its parameters\n",
    "        optimizer.step()\n",
    "\n",
    "    avg_loss = total_loss/train_data.size()[0]\n",
    "    avg_loss_list.append(avg_loss)\n",
    "    epoch_list.append(epoch)\n",
    "#     print(\"Epoch: {}, Total in-sample error: {}\".format(epoch, avg_loss))\n",
    "    \n",
    "# Plot loss\n",
    "plt.plot(epoch_list, avg_loss_list, 'r-', lw=2)\n",
    "plt.xlabel(\"epoch\")\n",
    "plt.ylabel(\"average error\")\n",
    "plt.grid(True)\n",
    "plt.show()"
   ]
  },
  {
   "cell_type": "code",
   "execution_count": 11,
   "metadata": {},
   "outputs": [
    {
     "data": {
      "text/plain": [
       "tensor([2.1211e-04, 1.0060e-01, 8.9918e-01], grad_fn=<SoftmaxBackward>)"
      ]
     },
     "execution_count": 11,
     "metadata": {},
     "output_type": "execute_result"
    }
   ],
   "source": [
    "y_pred_test = model(test_data[21,0:4])\n",
    "y_pred_test"
   ]
  },
  {
   "cell_type": "code",
   "execution_count": 12,
   "metadata": {},
   "outputs": [
    {
     "name": "stdout",
     "output_type": "stream",
     "text": [
      "[0.2        0.25980762 0.08291562 0.35707142]\n",
      "[0.31124749 0.18027756 0.16393596 0.25860201]\n",
      "[0.3   0.35  0.425 0.45 ]\n",
      "[0.425 0.45  0.225 0.425]\n"
     ]
    }
   ],
   "source": [
    "a = np.array([[0.1, 0.2, 0.5, 0.9],[0.5, 0.2, 0.4, 0.7],[0.1, 0.2, 0.5, 0.1],[0.5, 0.8, 0.3, 0.1]])\n",
    "a\n",
    "print(np.std(a, axis=0))\n",
    "print(np.std(a, axis=1))\n",
    "print(np.mean(a, axis=0))\n",
    "print(np.mean(a, axis=1))"
   ]
  },
  {
   "cell_type": "code",
   "execution_count": null,
   "metadata": {},
   "outputs": [],
   "source": []
  }
 ],
 "metadata": {
  "kernelspec": {
   "display_name": "Python 3",
   "language": "python",
   "name": "python3"
  },
  "language_info": {
   "codemirror_mode": {
    "name": "ipython",
    "version": 3
   },
   "file_extension": ".py",
   "mimetype": "text/x-python",
   "name": "python",
   "nbconvert_exporter": "python",
   "pygments_lexer": "ipython3",
   "version": "3.7.1"
  }
 },
 "nbformat": 4,
 "nbformat_minor": 2
}
