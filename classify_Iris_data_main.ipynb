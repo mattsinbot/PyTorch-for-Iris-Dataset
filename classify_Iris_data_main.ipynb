{
 "cells": [
  {
   "cell_type": "markdown",
   "metadata": {},
   "source": [
    "# Modeling Iris Data Using Deep Neural Network in PyTorch\n",
    "\n",
    "### Anirban Sinha, PhD candidate, Stony Brook"
   ]
  },
  {
   "cell_type": "code",
   "execution_count": 1,
   "metadata": {},
   "outputs": [
    {
     "name": "stdout",
     "output_type": "stream",
     "text": [
      "PyTorch version: 1.0.0\n",
      "Numpy version: 1.15.4\n"
     ]
    }
   ],
   "source": [
    "import torch\n",
    "import numpy as np\n",
    "import matplotlib.pyplot as plt\n",
    "\n",
    "# Check versions\n",
    "print(\"PyTorch version: {}\".format(torch.__version__))\n",
    "print(\"Numpy version: {}\".format(np.__version__))"
   ]
  },
  {
   "cell_type": "code",
   "execution_count": 2,
   "metadata": {},
   "outputs": [
    {
     "name": "stdout",
     "output_type": "stream",
     "text": [
      "Mean of features: [5.84333333 3.054      3.75866667 1.19866667]\n",
      "Std of features: [0.82530129 0.43214658 1.75852918 0.76061262]\n"
     ]
    }
   ],
   "source": [
    "# Load Iris Dataset\n",
    "FILE_PATH = \"/home/nobug-ros/dev_ml/PyTorch-for-Iris-Dataset/\"\n",
    "MAIN_FILE_NAME = \"iris_dataset.txt\"\n",
    "TRAIN_FILE_NAME = \"iris_train_dataset.txt\"\n",
    "TEST_FILE_NAME = \"iris_test_dataset.txt\"\n",
    "NUM_FEATURE = 4\n",
    "NUM_CLASS = 3\n",
    "num_epoch = 20\n",
    "\n",
    "data = np.loadtxt(FILE_PATH+MAIN_FILE_NAME, delimiter=\",\")\n",
    "mean_data = np.mean(data[:,:NUM_FEATURE], axis=0)\n",
    "std_data = np.std(data[:,:NUM_FEATURE], axis=0)\n",
    "\n",
    "train_data = np.loadtxt(FILE_PATH+TRAIN_FILE_NAME, delimiter=\",\")\n",
    "test_data = np.loadtxt(FILE_PATH+TEST_FILE_NAME, delimiter=\",\")\n",
    "\n",
    "print(\"Mean of features: {}\".format(mean_data))\n",
    "print(\"Std of features: {}\".format(std_data))"
   ]
  },
  {
   "cell_type": "code",
   "execution_count": 3,
   "metadata": {},
   "outputs": [],
   "source": [
    "# Standardize (Pre-process) train and test data\n",
    "for j in range(NUM_FEATURE):\n",
    "    for i in range(train_data.shape[0]):\n",
    "        train_data[i, j] = (train_data[i, j] - mean_data[j])/std_data[j]\n",
    "    for i in range(test_data.shape[0]):\n",
    "        test_data[i, j] = (test_data[i, j] - mean_data[j])/std_data[j] "
   ]
  },
  {
   "cell_type": "code",
   "execution_count": 4,
   "metadata": {},
   "outputs": [],
   "source": [
    "# Convert scaled test and train data into PyTorch tensor\n",
    "train_data = torch.Tensor(train_data)\n",
    "test_data = torch.Tensor(test_data)"
   ]
  },
  {
   "cell_type": "markdown",
   "metadata": {},
   "source": [
    "## Start building the Neural Network using PyTorch"
   ]
  },
  {
   "cell_type": "code",
   "execution_count": 5,
   "metadata": {},
   "outputs": [],
   "source": [
    "# Select device to compute cpu/gpu\n",
    "device = torch.device('cpu')\n",
    "# device = torch.device('gpu')"
   ]
  },
  {
   "cell_type": "code",
   "execution_count": 6,
   "metadata": {},
   "outputs": [],
   "source": [
    "D_in, H, D_out = NUM_FEATURE, 8, 3\n",
    "# Use the nn package to define our model and loss function.\n",
    "model = torch.nn.Sequential(\n",
    "          torch.nn.Linear(D_in, H),\n",
    "          torch.nn.ReLU(),\n",
    "          torch.nn.Linear(H, D_out),\n",
    "          torch.nn.Softmax(dim=0),\n",
    "        )\n",
    "# MSELoss\n",
    "loss_fn = torch.nn.MSELoss(reduction='mean')\n",
    "\n",
    "# We use Adam; the optim package contains many other optimization algoriths. \n",
    "# The first argument to the Adam constructor tells the optimizer which Tensors it should update.\n",
    "learning_rate = 1e-4\n",
    "optimizer = torch.optim.Adam(model.parameters(), lr=learning_rate)"
   ]
  },
  {
   "cell_type": "markdown",
   "metadata": {},
   "source": [
    "## Train Neural Network"
   ]
  },
  {
   "cell_type": "code",
   "execution_count": 7,
   "metadata": {},
   "outputs": [
    {
     "data": {
      "image/png": "[encoded data removed]",
      "text/plain": [
       "<Figure size 432x288 with 1 Axes>"
      ]
     },
     "metadata": {
      "needs_background": "light"
     },
     "output_type": "display_data"
    }
   ],
   "source": [
    "idx = np.arange(train_data.size()[0])\n",
    "avg_loss_list = list()\n",
    "epoch_list = list()\n",
    "for epoch in range(num_epoch):\n",
    "    total_loss = 0\n",
    "    np.random.shuffle(idx)\n",
    "    for id in idx:\n",
    "        y_pred = model(train_data[id,:NUM_FEATURE])\n",
    "        y = train_data[id,NUM_FEATURE:]\n",
    "        loss = loss_fn(y_pred, y)\n",
    "        total_loss += loss\n",
    "\n",
    "        # Before the backward pass, use the optimizer object to zero all of the\n",
    "        # gradients for the Tensors it will update (which are the learnable weights\n",
    "        # of the model)\n",
    "        optimizer.zero_grad()\n",
    "\n",
    "        # Backward pass: compute gradient of the loss with respect to model parameters\n",
    "        loss.backward()\n",
    "\n",
    "        # Calling the step function on an Optimizer makes an update to its parameters\n",
    "        optimizer.step()\n",
    "\n",
    "    avg_loss = total_loss/train_data.size()[0]\n",
    "    avg_loss_list.append(avg_loss)\n",
    "    epoch_list.append(epoch)\n",
    "    \n",
    "# Plot loss\n",
    "plt.plot(epoch_list, avg_loss_list, 'r-', lw=2)\n",
    "plt.xlabel(\"epoch\")\n",
    "plt.ylabel(\"average error\")\n",
    "plt.grid(True)\n",
    "plt.show()"
   ]
  },
  {
   "cell_type": "markdown",
   "metadata": {},
   "source": [
    "## Test model on unseen data"
   ]
  },
  {
   "cell_type": "code",
   "execution_count": 8,
   "metadata": {},
   "outputs": [],
   "source": [
    "pred_class = list()\n",
    "actual_class = list()\n",
    "for i in range(test_data.shape[0]):\n",
    "    y_pred_test = model(test_data[i,:NUM_FEATURE])\n",
    "    val_pred, indices_pred = torch.max(y_pred_test, 0)\n",
    "    val_actual, indices_actual = torch.max(test_data[i,NUM_FEATURE:], 0)\n",
    "    pred_class.append(indices_pred)\n",
    "    actual_class.append(indices_actual)"
   ]
  },
  {
   "cell_type": "markdown",
   "metadata": {},
   "source": [
    "## Confusion matrix"
   ]
  },
  {
   "cell_type": "code",
   "execution_count": 15,
   "metadata": {},
   "outputs": [
    {
     "name": "stdout",
     "output_type": "stream",
     "text": [
      "Confusion matrix:\n",
      " [[10.  2.  0.]\n",
      " [ 0.  5.  0.]\n",
      " [ 0.  3. 10.]]\n"
     ]
    }
   ],
   "source": [
    "conf_mat = np.zeros((NUM_CLASS, NUM_CLASS))\n",
    "for i,j in zip(pred_class, actual_class):\n",
    "#     print(\"Predicted class: {}, Actual class: {}\\n\".format(i, j))\n",
    "    conf_mat[i, j] += 1\n",
    "print(\"Confusion matrix:\\n\", conf_mat)"
   ]
  }
 ],
 "metadata": {
  "kernelspec": {
   "display_name": "Python 3",
   "language": "python",
   "name": "python3"
  },
  "language_info": {
   "codemirror_mode": {
    "name": "ipython",
    "version": 3
   },
   "file_extension": ".py",
   "mimetype": "text/x-python",
   "name": "python",
   "nbconvert_exporter": "python",
   "pygments_lexer": "ipython3",
   "version": "3.7.1"
  }
 },
 "nbformat": 4,
 "nbformat_minor": 2
}
